{
 "cells": [
  {
   "cell_type": "code",
   "execution_count": 2,
   "id": "e6e77f03",
   "metadata": {},
   "outputs": [],
   "source": [
    "# 1 libraries\n",
    "import random\n",
    "import string\n",
    "import nltk\n",
    "from gensim.models import Word2Vec\n",
    "from nltk.corpus import stopwords\n",
    "from nltk.tokenize import word_tokenize"
   ]
  },
  {
   "cell_type": "code",
   "execution_count": 3,
   "id": "7075e299",
   "metadata": {},
   "outputs": [
    {
     "name": "stderr",
     "output_type": "stream",
     "text": [
      "[nltk_data] Downloading package stopwords to\n",
      "[nltk_data]     C:\\Users\\Ashish\\AppData\\Roaming\\nltk_data...\n",
      "[nltk_data]   Package stopwords is already up-to-date!\n"
     ]
    },
    {
     "data": {
      "text/plain": [
       "True"
      ]
     },
     "execution_count": 3,
     "metadata": {},
     "output_type": "execute_result"
    }
   ],
   "source": [
    "nltk.download(\"stopwords\")"
   ]
  },
  {
   "cell_type": "code",
   "execution_count": 6,
   "id": "540f81f7",
   "metadata": {},
   "outputs": [
    {
     "name": "stderr",
     "output_type": "stream",
     "text": [
      "[nltk_data] Downloading package punkt to\n",
      "[nltk_data]     C:\\Users\\Ashish\\AppData\\Roaming\\nltk_data...\n",
      "[nltk_data]   Package punkt is already up-to-date!\n"
     ]
    },
    {
     "data": {
      "text/plain": [
       "True"
      ]
     },
     "execution_count": 6,
     "metadata": {},
     "output_type": "execute_result"
    }
   ],
   "source": [
    "nltk.download(\"punkt\")"
   ]
  },
  {
   "cell_type": "code",
   "execution_count": 7,
   "id": "14cfb0f4",
   "metadata": {},
   "outputs": [],
   "source": [
    "text=\"K. N. Lokesh and Rajeshwari in Bangalore, Karnataka. His father Lokesh, who hails from Kannanur in Magadi, is a professor and former director at the National Institute of Technology Karnataka (NITK) in Mangalore. His mother, Rajeshwari, is a professor at Mangalore University.\""
   ]
  },
  {
   "cell_type": "code",
   "execution_count": 12,
   "id": "c73abbb3",
   "metadata": {},
   "outputs": [],
   "source": [
    "def pre_process(text):\n",
    "    tokens=word_tokenize(text.lower())\n",
    "    stop_words=set(stopwords.words(\"english\"))\n",
    "    tokens=[word for word in tokens if word.isalpha() and word not in stop_words and word not in string.punctuation]\n",
    "    return tokens"
   ]
  },
  {
   "cell_type": "code",
   "execution_count": 13,
   "id": "09cd1f48",
   "metadata": {},
   "outputs": [
    {
     "name": "stdout",
     "output_type": "stream",
     "text": [
      "['lokesh', 'rajeshwari', 'karnataka', 'father']\n",
      "bangalore\n",
      "**************\n",
      "['rajeshwari', 'bangalore', 'father', 'lokesh']\n",
      "karnataka\n",
      "**************\n",
      "['bangalore', 'karnataka', 'lokesh', 'hails']\n",
      "father\n",
      "**************\n",
      "['karnataka', 'father', 'hails', 'kannanur']\n",
      "lokesh\n",
      "**************\n",
      "['father', 'lokesh', 'kannanur', 'magadi']\n",
      "hails\n",
      "**************\n",
      "['lokesh', 'hails', 'magadi', 'professor']\n",
      "kannanur\n",
      "**************\n",
      "['hails', 'kannanur', 'professor', 'former']\n",
      "magadi\n",
      "**************\n",
      "['kannanur', 'magadi', 'former', 'director']\n",
      "professor\n",
      "**************\n",
      "['magadi', 'professor', 'director', 'national']\n",
      "former\n",
      "**************\n",
      "['professor', 'former', 'national', 'institute']\n",
      "director\n",
      "**************\n",
      "['former', 'director', 'institute', 'technology']\n",
      "national\n",
      "**************\n",
      "['director', 'national', 'technology', 'karnataka']\n",
      "institute\n",
      "**************\n",
      "['national', 'institute', 'karnataka', 'nitk']\n",
      "technology\n",
      "**************\n",
      "['institute', 'technology', 'nitk', 'mangalore']\n",
      "karnataka\n",
      "**************\n",
      "['technology', 'karnataka', 'mangalore', 'mother']\n",
      "nitk\n",
      "**************\n",
      "['karnataka', 'nitk', 'mother', 'rajeshwari']\n",
      "mangalore\n",
      "**************\n",
      "['nitk', 'mangalore', 'rajeshwari', 'professor']\n",
      "mother\n",
      "**************\n",
      "['mangalore', 'mother', 'professor', 'mangalore']\n",
      "rajeshwari\n",
      "**************\n",
      "['mother', 'rajeshwari', 'mangalore', 'university']\n",
      "professor\n",
      "**************\n",
      "[['lokesh', 'rajeshwari', 'karnataka', 'father', 'bangalore'], ['rajeshwari', 'bangalore', 'father', 'lokesh', 'karnataka'], ['bangalore', 'karnataka', 'lokesh', 'hails', 'father'], ['karnataka', 'father', 'hails', 'kannanur', 'lokesh'], ['father', 'lokesh', 'kannanur', 'magadi', 'hails'], ['lokesh', 'hails', 'magadi', 'professor', 'kannanur'], ['hails', 'kannanur', 'professor', 'former', 'magadi'], ['kannanur', 'magadi', 'former', 'director', 'professor'], ['magadi', 'professor', 'director', 'national', 'former'], ['professor', 'former', 'national', 'institute', 'director'], ['former', 'director', 'institute', 'technology', 'national'], ['director', 'national', 'technology', 'karnataka', 'institute'], ['national', 'institute', 'karnataka', 'nitk', 'technology'], ['institute', 'technology', 'nitk', 'mangalore', 'karnataka'], ['technology', 'karnataka', 'mangalore', 'mother', 'nitk'], ['karnataka', 'nitk', 'mother', 'rajeshwari', 'mangalore'], ['nitk', 'mangalore', 'rajeshwari', 'professor', 'mother'], ['mangalore', 'mother', 'professor', 'mangalore', 'rajeshwari'], ['mother', 'rajeshwari', 'mangalore', 'university', 'professor']]\n"
     ]
    }
   ],
   "source": [
    "tokens=pre_process(text)\n",
    "training_data=[]\n",
    "context_size=2\n",
    "for i in range(context_size,len(tokens)-context_size):\n",
    "    context=tokens[i-context_size:i]+tokens[i+1:i+1+context_size]\n",
    "    target=tokens[i]\n",
    "    training_data.append(context+[target])\n",
    "    print(context)\n",
    "    print(target)\n",
    "    print(\"**************\")\n",
    "print(training_data)"
   ]
  },
  {
   "cell_type": "code",
   "execution_count": 14,
   "id": "8cb0b755",
   "metadata": {},
   "outputs": [],
   "source": [
    "model=Word2Vec(sentences=training_data,vector_size=500,sg=0,min_count=1,window=context_size)"
   ]
  },
  {
   "cell_type": "code",
   "execution_count": 15,
   "id": "1f5fdd15",
   "metadata": {},
   "outputs": [
    {
     "data": {
      "text/plain": [
       "(285, 1900)"
      ]
     },
     "execution_count": 15,
     "metadata": {},
     "output_type": "execute_result"
    }
   ],
   "source": [
    "model.train(training_data,total_examples=len(training_data),epochs=20)"
   ]
  },
  {
   "cell_type": "code",
   "execution_count": 40,
   "id": "441c3ff6",
   "metadata": {},
   "outputs": [],
   "source": [
    "def predicts():\n",
    "    i=random.randint(2,len(tokens)-3)\n",
    "    prev_word=tokens[i-2:i]\n",
    "    next_word=tokens[i+1:i+3]\n",
    "    predict_word=model.predict_output_word(prev_word+next_word,topn=1)\n",
    "    print(f\"context are:{prev_word+next_word}\")\n",
    "    print (f\"target is:{predict_word}\")\n",
    "    \n",
    "    similar_word=model.wv.most_similar(predict_word,topn=5)\n",
    "    for word,similarity in similar_word:\n",
    "        print(f\"{word}:{similarity}\")"
   ]
  },
  {
   "cell_type": "code",
   "execution_count": 41,
   "id": "b52f9f8d",
   "metadata": {
    "scrolled": true
   },
   "outputs": [
    {
     "name": "stdout",
     "output_type": "stream",
     "text": [
      "context are:['lokesh', 'rajeshwari', 'karnataka', 'father']\n",
      "target is:[('bangalore', 0.055556048)]\n",
      "kannanur:0.10545200109481812\n",
      "karnataka:0.0795864462852478\n",
      "technology:0.07039448618888855\n",
      "father:0.04959383234381676\n",
      "university:0.045611798763275146\n"
     ]
    }
   ],
   "source": [
    "predicts()"
   ]
  },
  {
   "cell_type": "code",
   "execution_count": null,
   "id": "4a96c685",
   "metadata": {},
   "outputs": [],
   "source": []
  }
 ],
 "metadata": {
  "kernelspec": {
   "display_name": "Python 3 (ipykernel)",
   "language": "python",
   "name": "python3"
  },
  "language_info": {
   "codemirror_mode": {
    "name": "ipython",
    "version": 3
   },
   "file_extension": ".py",
   "mimetype": "text/x-python",
   "name": "python",
   "nbconvert_exporter": "python",
   "pygments_lexer": "ipython3",
   "version": "3.11.4"
  }
 },
 "nbformat": 4,
 "nbformat_minor": 5
}
